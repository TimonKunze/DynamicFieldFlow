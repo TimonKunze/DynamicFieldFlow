{
 "cells": [
  {
   "cell_type": "markdown",
   "metadata": {
    "collapsed": true,
    "pycharm": {
     "name": "#%% md\n"
    }
   },
   "source": [
    "In this tutorial, we will demonstrate how DFT architectures can be created and simulated in Python. We are going to use two libraries:\n",
    "- [DynamicFieldPy](https://github.com/danielsabinasz/DynamicFieldPy) (DFPy): A high-level API that allows to define DFT architectures in a generic way, i.e., in a way that is uncommitted as to the means by which the architecture is simulated (e.g., on a CPU, a GPU, or neuromorphic hardware).\n",
    "- [DynamicFieldFlow](https://github.com/danielsabinasz/DynamicFieldFlow) (DFF): A library that allows to simulate DFPy architectures by means of the TensorFlow framework (https://www.tensorflow.org)"
   ]
  },
  {
   "cell_type": "code",
   "execution_count": null,
   "outputs": [],
   "source": [],
   "metadata": {
    "collapsed": false,
    "pycharm": {
     "name": "#%%\n"
    }
   }
  }
 ],
 "metadata": {
  "kernelspec": {
   "display_name": "Python 3",
   "language": "python",
   "name": "python3"
  },
  "language_info": {
   "codemirror_mode": {
    "name": "ipython",
    "version": 2
   },
   "file_extension": ".py",
   "mimetype": "text/x-python",
   "name": "python",
   "nbconvert_exporter": "python",
   "pygments_lexer": "ipython2",
   "version": "2.7.6"
  }
 },
 "nbformat": 4,
 "nbformat_minor": 0
}